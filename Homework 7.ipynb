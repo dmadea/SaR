{
 "cells": [
  {
   "cell_type": "markdown",
   "metadata": {},
   "source": [
    "# Chapter 7 (solution)\n",
    "\n"
   ]
  },
  {
   "cell_type": "code",
   "execution_count": 1,
   "metadata": {},
   "outputs": [],
   "source": [
    "import numpy as np\n",
    "import matplotlib.pyplot as plt\n",
    "%matplotlib inline"
   ]
  },
  {
   "cell_type": "markdown",
   "metadata": {},
   "source": [
    "### Exercise 5\n",
    "\n",
    "The decomposition of nitrogen dioxide is a second order reaction with rate constants as follows: 522 M$^{-1}$\n",
    "\n",
    "\n",
    "\n",
    "Arhenius equation is $$k = A\\exp\\left( -\\frac{E_a}{RT}\\right)$$\n",
    "\n",
    "in linear form  $$\\ln k = \\ln A -\\frac{E_a}{R}\\frac{1}{T} $$\n",
    "\n",
    "therefore we need to plot natural log of rate constant over reciprocal temperature."
   ]
  },
  {
   "cell_type": "code",
   "execution_count": 5,
   "metadata": {},
   "outputs": [
    {
     "data": {
      "text/plain": [
       "Text(0, 0.5, 'ln k')"
      ]
     },
     "execution_count": 5,
     "metadata": {},
     "output_type": "execute_result"
    },
    {
     "data": {
      "image/png": "[encoded data removed]",
      "text/plain": [
       "<Figure size 432x288 with 1 Axes>"
      ]
     },
     "metadata": {
      "needs_background": "light"
     },
     "output_type": "display_data"
    }
   ],
   "source": [
    "rates = np.asarray([522, 755, 1700, 4020])  # in M^-1 s^-1\n",
    "temperatures = np.asarray([592, 603, 627, 652])  # in Kelvins\n",
    "\n",
    "ln_k = np.log(rates)\n",
    "rec_T = 1 / temperatures\n",
    "\n",
    "plt.scatter(rec_T, ln_k)\n",
    "plt.xlabel(\"1 / T (K$^{-1}$)\")\n",
    "plt.ylabel(\"ln k\")"
   ]
  },
  {
   "cell_type": "markdown",
   "metadata": {},
   "source": [
    "Now we need to fit the line to those points by linear least squares.\n",
    "\n",
    "$$\\bf{Ax} = \\bf{b}$$  where $\\bf{b}$ are y points, $\\bf{A} = \\left[\\bf{x\\ points, 1}\\right]$ and $\\bf{x} = \\begin{pmatrix} slope\\\\ intercept \\end{pmatrix}$\n",
    "\n",
    "$$\\bf\\hat{x} = \\bf{A^+ y}$$"
   ]
  },
  {
   "cell_type": "code",
   "execution_count": 13,
   "metadata": {},
   "outputs": [
    {
     "name": "stdout",
     "output_type": "stream",
     "text": [
      "slope: -13132.96768845863, intercept: 28.418391532105552\n"
     ]
    },
    {
     "data": {
      "image/png": "[encoded data removed]",
      "text/plain": [
       "<Figure size 432x288 with 1 Axes>"
      ]
     },
     "metadata": {
      "needs_background": "light"
     },
     "output_type": "display_data"
    }
   ],
   "source": [
    "from scipy.linalg import lstsq  # import linear least squares solver\n",
    "\n",
    "A = np.ones((rec_T.shape[0], 2), dtype=np.float64)  # make the A matrix\n",
    "A[:, 0] = rec_T  # fill x points\n",
    "\n",
    "slope, intercept = lstsq(A, ln_k)[0]  # fit x\n",
    "\n",
    "ln_k_fit = slope * rec_T + intercept\n",
    "\n",
    "plt.scatter(rec_T, ln_k)\n",
    "plt.plot(rec_T, ln_k_fit, color='k', ls='--', label='fit')\n",
    "plt.xlabel(\"1 / T (K$^{-1}$)\")\n",
    "plt.ylabel(\"ln k\")\n",
    "plt.legend()\n",
    "print(f'slope: {slope}, intercept: {intercept}')"
   ]
  },
  {
   "cell_type": "code",
   "execution_count": 24,
   "metadata": {},
   "outputs": [
    {
     "name": "stdout",
     "output_type": "stream",
     "text": [
      "log A = 12.3, Ea = 26.4 kcal/mol\n"
     ]
    }
   ],
   "source": [
    "log10_A = intercept * np.log10(np.e)  # convert ln A to log10 A\n",
    "Ea = - slope * 8.314 / 4.13  # calculate activation energy from the slope, R is in cal/(mol K)\n",
    "\n",
    "print(f'log A = {log10_A:.3g}, Ea = {Ea * 1e-3:.3g} kcal/mol')"
   ]
  },
  {
   "cell_type": "markdown",
   "metadata": {},
   "source": [
    "What does $\\log A$ and $E_a$ tells us about the reaction ???"
   ]
  },
  {
   "cell_type": "code",
   "execution_count": null,
   "metadata": {},
   "outputs": [],
   "source": []
  }
 ],
 "metadata": {
  "kernelspec": {
   "display_name": "Python 3",
   "language": "python",
   "name": "python3"
  },
  "language_info": {
   "codemirror_mode": {
    "name": "ipython",
    "version": 3
   },
   "file_extension": ".py",
   "mimetype": "text/x-python",
   "name": "python",
   "nbconvert_exporter": "python",
   "pygments_lexer": "ipython3",
   "version": "3.8.6"
  }
 },
 "nbformat": 4,
 "nbformat_minor": 4
}
