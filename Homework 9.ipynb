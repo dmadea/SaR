{
 "cells": [
  {
   "cell_type": "markdown",
   "metadata": {},
   "source": [
    "# Homework 9 (solution)\n",
    "\n"
   ]
  },
  {
   "cell_type": "code",
   "execution_count": 32,
   "metadata": {},
   "outputs": [],
   "source": [
    "import numpy as np\n",
    "import matplotlib.pyplot as plt\n",
    "from matplotlib.ticker import MultipleLocator\n",
    "%matplotlib inline"
   ]
  },
  {
   "cell_type": "markdown",
   "metadata": {},
   "source": [
    "## Chapter 9, Exercise 12\n",
    "\n",
    "Each of the mechanisms from Exercise 10 were supported by careful kinetic measurements performed for this enolization by Hegarty and Jencks in 1975. In other words, all these different forms of catalysis can operate simultaneously, the extent of each pathway being determined by the pH and the concentrations of the general acids and general bases. Correspondingly, the rate law looks like the following:\n",
    "\n",
    "$$\\text{rate} = [\\text{acetone}]\\left(k_{H^+}[H_3O^+] + k_{HA}[HA] + k_{OH^-}[OH^-] + k_B[B]\\right)$$\n",
    "\n",
    "Draw the separate pH versus $\\log(k_{obs})$ kinetic plots, onefor each term in this expression.To do this, incorporate the hydronium, hydroxide, general-acid ($\\mathrm pK_{\\mathrm a}$ of 7.0), and general-base (conjugate acid $\\mathrm pK_{\\mathrm a}$  of 7.0) concentration into the rate constants to give a $\\log(k_{obs})$ for each of these four terms.\n",
    "\n",
    "*Solution:*\n",
    "Acid dissociation constant:\n",
    "$$K_a=\\frac{[H_3O^+][A^-]}{[HA]}$$\n",
    "Mass balance equation (analytical acid concentration consist of dissociated and undissociated part):\n",
    "$$[HA]_0 = [HA] + [A^-]$$\n",
    "\n",
    "$$\\mathrm pK_{\\mathrm a} = -\\log K_a = 7.0$$\n",
    "\n",
    "$$pH = -\\log [H_3O^+]$$\n",
    "\n",
    "$$pH + pOH = pK_w \\approx 14$$\n",
    "\n",
    "Lets plug in into the terms into the original equation and separate the terms:\n",
    "\n",
    "$$\\text{rate} = [\\text{acetone}]\\left(k_{H^+}10^{-pH} + k_{HA}[HA]_0\\frac{1}{1+10^{pH-pK_a}} + k_{OH^-}10^{pH - pK_w} + k_B[B]_0\\frac{1}{1+10^{pK_a-pH}}\\right)$$\n",
    "\n",
    "Separately, we will plot the logs of the following graphs:\n",
    "\n",
    "\\begin{align}\n",
    "k_{obs}^{(1)} &= k_{H^+}10^{-pH} \\\\\n",
    "k_{obs}^{(2)} &= k_{HA}[HA]_0\\frac{1}{1+10^{pH-pK_a}} \\\\\n",
    "k_{obs}^{(3)} &= k_{OH^-}10^{pH - pK_w} \\\\\n",
    "k_{obs}^{(4)} &= k_B[B]_0\\frac{1}{1+10^{pK_a-pH}}\n",
    "\\end{align}\n",
    "\n",
    "Because these are just a qualitative plots, we will assume that $[HA]_0 = [B]_0 = 1$ and also $k_{H^+} = k_{HA} = k_{OH^-} = k_B = 1$.\n"
   ]
  },
  {
   "cell_type": "code",
   "execution_count": 34,
   "metadata": {},
   "outputs": [
    {
     "data": {
      "image/png": "[encoded data removed]",
      "text/plain": [
       "<Figure size 1080x216 with 4 Axes>"
      ]
     },
     "metadata": {
      "needs_background": "light"
     },
     "output_type": "display_data"
    }
   ],
   "source": [
    "pH = np.linspace(0, 14, 200)\n",
    "\n",
    "pKa = 7.0\n",
    "pKw = 14\n",
    "\n",
    "# calculate individual terms\n",
    "\n",
    "k1 = 10 ** (-pH)\n",
    "k2 = 1 / (1 + 10 ** (pH - pKa))\n",
    "k3 = 10 ** (pH - pKw)\n",
    "k4 = 1 / (1 + 10 ** (pKa - pH))\n",
    "\n",
    "k = [k1, k2, k3, k4]\n",
    "\n",
    "# calculate decadic logarithms\n",
    "\n",
    "k_log = [np.log10(_k) for _k in k]\n",
    "\n",
    "# plot the terms vs pH\n",
    "\n",
    "plt.rcParams.update({'font.size': 13})\n",
    "\n",
    "figure, axes = plt.subplots(1, 4, figsize=(15, 3))\n",
    "\n",
    "for i, (ax, _k_log) in enumerate(zip(axes, k_log)):\n",
    "    ax.plot(pH, _k_log, 'r')\n",
    "    ax.set_title(f'{i+1}. term')\n",
    "    ax.set_xlabel(\"pH\")\n",
    "    ax.set_ylabel(\"log($k_{obs}$)\")\n",
    "    ax.xaxis.set_major_locator(MultipleLocator(2))\n",
    "\n",
    "plt.tight_layout()\n",
    "plt.show()\n"
   ]
  },
  {
   "cell_type": "code",
   "execution_count": null,
   "metadata": {},
   "outputs": [],
   "source": []
  }
 ],
 "metadata": {
  "kernelspec": {
   "display_name": "Python 3",
   "language": "python",
   "name": "python3"
  },
  "language_info": {
   "codemirror_mode": {
    "name": "ipython",
    "version": 3
   },
   "file_extension": ".py",
   "mimetype": "text/x-python",
   "name": "python",
   "nbconvert_exporter": "python",
   "pygments_lexer": "ipython3",
   "version": "3.8.6"
  }
 },
 "nbformat": 4,
 "nbformat_minor": 4
}
